{
 "cells": [
  {
   "cell_type": "code",
   "execution_count": 1,
   "id": "2a4e45d3-52de-453c-8914-82fdb5e2bed1",
   "metadata": {},
   "outputs": [],
   "source": [
    "import numpy as np\n",
    "\n",
    "# Set seed for reproducibility\n",
    "np.random.seed(seed=1234)"
   ]
  },
  {
   "cell_type": "markdown",
   "id": "53a33062-753c-47d6-95e7-6fdf520b6575",
   "metadata": {},
   "source": [
    "#### Basics"
   ]
  },
  {
   "cell_type": "code",
   "execution_count": 2,
   "id": "6fe7adfd-b0b4-4d6d-bb4b-c7332150408b",
   "metadata": {},
   "outputs": [
    {
     "name": "stdout",
     "output_type": "stream",
     "text": [
      "x:  6\n",
      "x ndim:  0\n",
      "x shape: ()\n",
      "x size:  1\n",
      "x dtype:  int64\n"
     ]
    }
   ],
   "source": [
    "# Scalar\n",
    "x = np.array(6)\n",
    "print (\"x: \", x)\n",
    "print (\"x ndim: \", x.ndim) # number of dimensions\n",
    "print (\"x shape:\", x.shape) # dimensions\n",
    "print (\"x size: \", x.size) # size of elements\n",
    "print (\"x dtype: \", x.dtype) # data type"
   ]
  },
  {
   "cell_type": "code",
   "execution_count": 3,
   "id": "91e75e36-0e39-4979-93a4-0eebf530dc8c",
   "metadata": {},
   "outputs": [
    {
     "name": "stdout",
     "output_type": "stream",
     "text": [
      "x:  [1.3 2.2 1.7]\n",
      "x ndim:  1\n",
      "x shape: (3,)\n",
      "x size:  3\n",
      "x dtype:  float64\n"
     ]
    }
   ],
   "source": [
    "# Vector\n",
    "x = np.array([1.3 , 2.2 , 1.7])\n",
    "print (\"x: \", x)\n",
    "print (\"x ndim: \", x.ndim)\n",
    "print (\"x shape:\", x.shape)\n",
    "print (\"x size: \", x.size)\n",
    "print (\"x dtype: \", x.dtype) # notice the float datatype"
   ]
  },
  {
   "cell_type": "code",
   "execution_count": 4,
   "id": "9641d393-b1b3-4cf4-921a-bb4df9f4cf0e",
   "metadata": {},
   "outputs": [
    {
     "name": "stdout",
     "output_type": "stream",
     "text": [
      "x:\n",
      " [[1 2]\n",
      " [3 4]]\n",
      "x ndim:  2\n",
      "x shape: (2, 2)\n",
      "x size:  4\n",
      "x dtype:  int64\n"
     ]
    }
   ],
   "source": [
    "# Matrix\n",
    "x = np.array([[1,2], [3,4]])\n",
    "print (\"x:\\n\", x)\n",
    "print (\"x ndim: \", x.ndim)\n",
    "print (\"x shape:\", x.shape)\n",
    "print (\"x size: \", x.size)\n",
    "print (\"x dtype: \", x.dtype)"
   ]
  },
  {
   "cell_type": "code",
   "execution_count": 5,
   "id": "a36056e3-0c58-4ed3-9ecc-3bd19c028aeb",
   "metadata": {},
   "outputs": [
    {
     "name": "stdout",
     "output_type": "stream",
     "text": [
      "x:\n",
      " [[[1 2]\n",
      "  [3 4]]\n",
      "\n",
      " [[5 6]\n",
      "  [7 8]]]\n",
      "x ndim:  3\n",
      "x shape: (2, 2, 2)\n",
      "x size:  8\n",
      "x dtype:  int64\n"
     ]
    }
   ],
   "source": [
    "# 3-D Tensor\n",
    "x = np.array([[[1,2],[3,4]],[[5,6],[7,8]]])\n",
    "print (\"x:\\n\", x)\n",
    "print (\"x ndim: \", x.ndim)\n",
    "print (\"x shape:\", x.shape)\n",
    "print (\"x size: \", x.size)\n",
    "print (\"x dtype: \", x.dtype)"
   ]
  },
  {
   "cell_type": "code",
   "execution_count": 6,
   "id": "901dc2eb-db43-4a30-8c2c-4bf126a9e9dc",
   "metadata": {},
   "outputs": [
    {
     "name": "stdout",
     "output_type": "stream",
     "text": [
      "np.zeros((2,2)):\n",
      " [[0. 0.]\n",
      " [0. 0.]]\n",
      "np.ones((2,2)):\n",
      " [[1. 1.]\n",
      " [1. 1.]]\n",
      "np.eye((2)):\n",
      " [[1. 0.]\n",
      " [0. 1.]]\n",
      "np.random.random((2,2)):\n",
      " [[0.19151945 0.62210877]\n",
      " [0.43772774 0.78535858]]\n"
     ]
    }
   ],
   "source": [
    "# Functions\n",
    "print (\"np.zeros((2,2)):\\n\", np.zeros((2,2)))\n",
    "print (\"np.ones((2,2)):\\n\", np.ones((2,2)))\n",
    "print (\"np.eye((2)):\\n\", np.eye((2))) # identity matrix\n",
    "print (\"np.random.random((2,2)):\\n\", np.random.random((2,2)))"
   ]
  },
  {
   "cell_type": "markdown",
   "id": "c5d27bb7-ba81-4ad2-a48f-f7b266401587",
   "metadata": {},
   "source": [
    "#### Indexing"
   ]
  },
  {
   "cell_type": "code",
   "execution_count": 7,
   "id": "9b37b208-6af5-4063-8739-541879e41a8e",
   "metadata": {},
   "outputs": [
    {
     "name": "stdout",
     "output_type": "stream",
     "text": [
      "x:  [1 2 3]\n",
      "x[0]:  1\n",
      "x:  [0 2 3]\n"
     ]
    }
   ],
   "source": [
    "# Indexing\n",
    "x = np.array([1, 2, 3])\n",
    "print (\"x: \", x)\n",
    "print (\"x[0]: \", x[0])\n",
    "x[0] = 0\n",
    "print (\"x: \", x)"
   ]
  },
  {
   "cell_type": "code",
   "execution_count": 8,
   "id": "2e0b2b1a-9854-486c-9599-2d9db8b85e2e",
   "metadata": {},
   "outputs": [
    {
     "name": "stdout",
     "output_type": "stream",
     "text": [
      "[[ 1  2  3  4]\n",
      " [ 5  6  7  8]\n",
      " [ 9 10 11 12]]\n",
      "x column 1:  [ 2  6 10]\n",
      "x row 0:  [1 2 3 4]\n",
      "x rows 0,1 & cols 1,2: \n",
      " [[2 3]\n",
      " [6 7]]\n"
     ]
    }
   ],
   "source": [
    "# Slicing\n",
    "x = np.array([[1,2,3,4], [5,6,7,8], [9,10,11,12]])\n",
    "print (x)\n",
    "print (\"x column 1: \", x[:, 1])\n",
    "print (\"x row 0: \", x[0, :])\n",
    "print (\"x rows 0,1 & cols 1,2: \\n\", x[0:2, 1:3])"
   ]
  },
  {
   "cell_type": "code",
   "execution_count": 9,
   "id": "8cb64d71-acc5-45d5-afee-2322d7aa89ea",
   "metadata": {},
   "outputs": [
    {
     "name": "stdout",
     "output_type": "stream",
     "text": [
      "[[ 1  2  3  4]\n",
      " [ 5  6  7  8]\n",
      " [ 9 10 11 12]]\n",
      "rows_to_get:  [0 1 2]\n",
      "cols_to_get:  [0 2 1]\n",
      "indexed values:  [ 1  7 10]\n"
     ]
    }
   ],
   "source": [
    "# Integer array indexing\n",
    "print (x)\n",
    "rows_to_get = np.array([0, 1, 2])\n",
    "print (\"rows_to_get: \", rows_to_get)\n",
    "cols_to_get = np.array([0, 2, 1])\n",
    "print (\"cols_to_get: \", cols_to_get)\n",
    "# Combine sequences above to get values to get\n",
    "print (\"indexed values: \", x[rows_to_get, cols_to_get]) # (0, 0), (1, 2), (2, 1)"
   ]
  },
  {
   "cell_type": "code",
   "execution_count": 10,
   "id": "63f97603-99f2-4c95-9212-55aabdb73201",
   "metadata": {},
   "outputs": [
    {
     "name": "stdout",
     "output_type": "stream",
     "text": [
      "x:\n",
      " [[1 2]\n",
      " [3 4]\n",
      " [5 6]]\n",
      "x > 2:\n",
      " [[False False]\n",
      " [ True  True]\n",
      " [ True  True]]\n",
      "x[x > 2]:\n",
      " [3 4 5 6]\n"
     ]
    }
   ],
   "source": [
    "# Boolean array indexing\n",
    "x = np.array([[1, 2], [3, 4], [5, 6]])\n",
    "print (\"x:\\n\", x)\n",
    "print (\"x > 2:\\n\", x > 2)\n",
    "print (\"x[x > 2]:\\n\", x[x > 2])"
   ]
  },
  {
   "cell_type": "markdown",
   "id": "d3f5fb20-23f9-496f-b93f-4bfe57718e43",
   "metadata": {},
   "source": [
    "#### Arithmetic"
   ]
  },
  {
   "cell_type": "code",
   "execution_count": 11,
   "id": "743bc7ad-d813-484b-8ea3-cced33939900",
   "metadata": {},
   "outputs": [
    {
     "name": "stdout",
     "output_type": "stream",
     "text": [
      "x + y:\n",
      " [[2. 4.]\n",
      " [6. 8.]]\n",
      "x - y:\n",
      " [[0. 0.]\n",
      " [0. 0.]]\n",
      "x * y:\n",
      " [[ 1.  4.]\n",
      " [ 9. 16.]]\n"
     ]
    }
   ],
   "source": [
    "# Basic math\n",
    "x = np.array([[1,2], [3,4]], dtype=np.float64)\n",
    "y = np.array([[1,2], [3,4]], dtype=np.float64)\n",
    "print (\"x + y:\\n\", np.add(x, y)) # or x + y\n",
    "print (\"x - y:\\n\", np.subtract(x, y)) # or x - y\n",
    "print (\"x * y:\\n\", np.multiply(x, y)) # or x * y"
   ]
  },
  {
   "cell_type": "markdown",
   "id": "25432cf4-27d3-47f3-ad5e-c0ffe5e8f8f2",
   "metadata": {},
   "source": [
    "#### Dot Product"
   ]
  },
  {
   "cell_type": "code",
   "execution_count": 12,
   "id": "65f23a76-b4a1-4414-a7da-92329f1d96e6",
   "metadata": {},
   "outputs": [
    {
     "name": "stdout",
     "output_type": "stream",
     "text": [
      "(2, 3) · (3, 2) = (2, 2)\n",
      "[[ 58.  64.]\n",
      " [139. 154.]]\n"
     ]
    }
   ],
   "source": [
    "# Dot product\n",
    "a = np.array([[1,2,3], [4,5,6]], dtype=np.float64) # we can specify dtype\n",
    "b = np.array([[7,8], [9,10], [11, 12]], dtype=np.float64)\n",
    "c = a.dot(b)\n",
    "print (f\"{a.shape} · {b.shape} = {c.shape}\")\n",
    "print (c)"
   ]
  },
  {
   "cell_type": "markdown",
   "id": "8aa88d7a-3732-4f9d-b876-57c3c9d29454",
   "metadata": {},
   "source": [
    "#### Axis Operations"
   ]
  },
  {
   "cell_type": "code",
   "execution_count": 14,
   "id": "1566b641-950f-4ac6-937e-b3c9864f062a",
   "metadata": {},
   "outputs": [
    {
     "name": "stdout",
     "output_type": "stream",
     "text": [
      "[[1 2]\n",
      " [3 4]]\n",
      "sum all:  10\n",
      "sum axis=0:  [4 6]\n",
      "sum axis=1:  [3 7]\n"
     ]
    }
   ],
   "source": [
    "# Sum across a dimension\n",
    "x = np.array([[1,2],[3,4]])\n",
    "print (x)\n",
    "print (\"sum all: \", np.sum(x)) # adds all elements\n",
    "print (\"sum axis=0: \", np.sum(x, axis=0)) # sum across rows\n",
    "print (\"sum axis=1: \", np.sum(x, axis=1)) # sum across columns"
   ]
  },
  {
   "cell_type": "code",
   "execution_count": 16,
   "id": "99ad2b4d-ed5c-4056-8699-67ec87544ef1",
   "metadata": {},
   "outputs": [
    {
     "name": "stdout",
     "output_type": "stream",
     "text": [
      "min:  1\n",
      "max:  6\n",
      "min axis=0:  [1 2 3]\n",
      "min axis=1:  [1 4]\n"
     ]
    }
   ],
   "source": [
    "# Min/max\n",
    "x = np.array([[1,2,3], [4,5,6]])\n",
    "print (\"min: \", x.min())\n",
    "print (\"max: \", x.max())\n",
    "print (\"min axis=0: \", x.min(axis=0))\n",
    "print (\"min axis=1: \", x.min(axis=1))"
   ]
  },
  {
   "cell_type": "markdown",
   "id": "502a9d11-2491-4913-8656-23ba9b0cdc99",
   "metadata": {},
   "source": [
    "#### Broadcast"
   ]
  },
  {
   "cell_type": "code",
   "execution_count": 17,
   "id": "549376bd-c2ac-403e-854c-7edcf5afa40a",
   "metadata": {},
   "outputs": [
    {
     "name": "stdout",
     "output_type": "stream",
     "text": [
      "z:\n",
      " [4 5]\n"
     ]
    }
   ],
   "source": [
    "# Broadcasting\n",
    "x = np.array([1,2]) # vector\n",
    "y = np.array(3) # scalar\n",
    "z = x + y\n",
    "print (\"z:\\n\", z)"
   ]
  },
  {
   "cell_type": "code",
   "execution_count": 18,
   "id": "65b78518-7d08-4a80-90b7-285319fab615",
   "metadata": {},
   "outputs": [],
   "source": [
    "a = np.array((3, 4, 5))\n",
    "b = np.expand_dims(a, axis=1)\n",
    "c = a + b"
   ]
  },
  {
   "cell_type": "code",
   "execution_count": 19,
   "id": "da9169d1-d452-40f8-8f68-42d7730f4a73",
   "metadata": {},
   "outputs": [
    {
     "name": "stdout",
     "output_type": "stream",
     "text": [
      "[[ 6  7  8]\n",
      " [ 7  8  9]\n",
      " [ 8  9 10]]\n"
     ]
    }
   ],
   "source": [
    "a.shape # (3,)\n",
    "b.shape # (3, 1)\n",
    "c.shape # (3, 3)\n",
    "print (c)"
   ]
  },
  {
   "cell_type": "code",
   "execution_count": 20,
   "id": "0b1e55a7-b87e-4822-8129-7e5a6d1fdba0",
   "metadata": {},
   "outputs": [
    {
     "name": "stdout",
     "output_type": "stream",
     "text": [
      "[[ 6]\n",
      " [ 8]\n",
      " [10]]\n"
     ]
    }
   ],
   "source": [
    "a = a.reshape(-1, 1)\n",
    "a.shape # (3, 1)\n",
    "c = a + b\n",
    "c.shape # (3, 1)\n",
    "print (c)"
   ]
  },
  {
   "cell_type": "code",
   "execution_count": 21,
   "id": "30e9852f-a0b0-459e-8a34-7987f6396414",
   "metadata": {},
   "outputs": [
    {
     "data": {
      "text/plain": [
       "(3, 1)"
      ]
     },
     "execution_count": 21,
     "metadata": {},
     "output_type": "execute_result"
    }
   ],
   "source": [
    "a = np.array([3, 4, 5])\n",
    "a.shape # (3,)\n",
    "a = a.reshape(-1, 1)\n",
    "a.shape # (3, 1)"
   ]
  },
  {
   "cell_type": "markdown",
   "id": "baa72b32-f09a-4556-9cf4-021bab6771e9",
   "metadata": {},
   "source": [
    "#### Transpose"
   ]
  },
  {
   "cell_type": "code",
   "execution_count": 22,
   "id": "8c34485b-efd8-458e-803f-ab97638b7ce4",
   "metadata": {},
   "outputs": [
    {
     "name": "stdout",
     "output_type": "stream",
     "text": [
      "x:\n",
      " [[1 2 3]\n",
      " [4 5 6]]\n",
      "x.shape:  (2, 3)\n",
      "y:\n",
      " [[1 4]\n",
      " [2 5]\n",
      " [3 6]]\n",
      "y.shape:  (3, 2)\n"
     ]
    }
   ],
   "source": [
    "# Transposing\n",
    "x = np.array([[1,2,3], [4,5,6]])\n",
    "print (\"x:\\n\", x)\n",
    "print (\"x.shape: \", x.shape)\n",
    "y = np.transpose(x, (1,0)) # flip dimensions at index 0 and 1\n",
    "print (\"y:\\n\", y)\n",
    "print (\"y.shape: \", y.shape)"
   ]
  },
  {
   "cell_type": "markdown",
   "id": "339942e0-5454-448a-86e6-4e294c496b0c",
   "metadata": {},
   "source": [
    "#### Reshape"
   ]
  },
  {
   "cell_type": "code",
   "execution_count": 23,
   "id": "f1728f5c-b130-455b-848a-b8986de029bb",
   "metadata": {},
   "outputs": [
    {
     "name": "stdout",
     "output_type": "stream",
     "text": [
      "[[1 2 3 4 5 6]]\n",
      "x.shape:  (1, 6)\n",
      "y: \n",
      " [[1 2 3]\n",
      " [4 5 6]]\n",
      "y.shape:  (2, 3)\n",
      "z: \n",
      " [[1 2 3]\n",
      " [4 5 6]]\n",
      "z.shape:  (2, 3)\n"
     ]
    }
   ],
   "source": [
    "# Reshaping\n",
    "x = np.array([[1,2,3,4,5,6]])\n",
    "print (x)\n",
    "print (\"x.shape: \", x.shape)\n",
    "y = np.reshape(x, (2, 3))\n",
    "print (\"y: \\n\", y)\n",
    "print (\"y.shape: \", y.shape)\n",
    "z = np.reshape(x, (2, -1))\n",
    "print (\"z: \\n\", z)\n",
    "print (\"z.shape: \", z.shape)"
   ]
  },
  {
   "cell_type": "markdown",
   "id": "a09b867e-7fac-4ff2-9d6b-649dbf804576",
   "metadata": {},
   "source": [
    "#### Joining"
   ]
  },
  {
   "cell_type": "code",
   "execution_count": 24,
   "id": "4b3f4c72-649e-4bd4-8986-dae14452e72d",
   "metadata": {},
   "outputs": [
    {
     "name": "stdout",
     "output_type": "stream",
     "text": [
      "[[0.77997581 0.27259261 0.27646426]\n",
      " [0.80187218 0.95813935 0.87593263]]\n",
      "(2, 3)\n"
     ]
    }
   ],
   "source": [
    "x = np.random.random((2, 3))\n",
    "print (x)\n",
    "print (x.shape)"
   ]
  },
  {
   "cell_type": "code",
   "execution_count": 25,
   "id": "878d54b9-1438-4ba8-8218-7c2687eeeb0c",
   "metadata": {},
   "outputs": [
    {
     "name": "stdout",
     "output_type": "stream",
     "text": [
      "[[0.77997581 0.27259261 0.27646426]\n",
      " [0.80187218 0.95813935 0.87593263]\n",
      " [0.77997581 0.27259261 0.27646426]\n",
      " [0.80187218 0.95813935 0.87593263]]\n",
      "(4, 3)\n"
     ]
    }
   ],
   "source": [
    "# Concatenation\n",
    "y = np.concatenate([x, x], axis=0) # concat on a specified axis\n",
    "print (y)\n",
    "print (y.shape)"
   ]
  },
  {
   "cell_type": "code",
   "execution_count": 26,
   "id": "0bf4cff2-b639-4626-9dd0-57b97d17d98e",
   "metadata": {},
   "outputs": [
    {
     "name": "stdout",
     "output_type": "stream",
     "text": [
      "[[[0.77997581 0.27259261 0.27646426]\n",
      "  [0.80187218 0.95813935 0.87593263]]\n",
      "\n",
      " [[0.77997581 0.27259261 0.27646426]\n",
      "  [0.80187218 0.95813935 0.87593263]]]\n",
      "(2, 2, 3)\n"
     ]
    }
   ],
   "source": [
    "# Stacking\n",
    "z = np.stack([x, x], axis=0) # stack on new axis\n",
    "print (z)\n",
    "print (z.shape)"
   ]
  },
  {
   "cell_type": "markdown",
   "id": "f522fdb7-1284-4852-9649-b87f924b677e",
   "metadata": {},
   "source": [
    "#### Expanding / Reducing"
   ]
  },
  {
   "cell_type": "code",
   "execution_count": 27,
   "id": "d24e3a30-897a-4033-b8ba-a360719dcaaa",
   "metadata": {},
   "outputs": [
    {
     "name": "stdout",
     "output_type": "stream",
     "text": [
      "x:\n",
      " [[1 2 3]\n",
      " [4 5 6]]\n",
      "x.shape:  (2, 3)\n",
      "y: \n",
      " [[[1 2 3]]\n",
      "\n",
      " [[4 5 6]]]\n",
      "y.shape:  (2, 1, 3)\n"
     ]
    }
   ],
   "source": [
    "# Adding dimensions\n",
    "x = np.array([[1,2,3],[4,5,6]])\n",
    "print (\"x:\\n\", x)\n",
    "print (\"x.shape: \", x.shape)\n",
    "y = np.expand_dims(x, 1) # expand dim 1\n",
    "print (\"y: \\n\", y)\n",
    "print (\"y.shape: \", y.shape)   # notice extra set of brackets are added"
   ]
  },
  {
   "cell_type": "code",
   "execution_count": 28,
   "id": "e8516052-f58a-41a9-9ea5-dcd67422f7b8",
   "metadata": {},
   "outputs": [
    {
     "name": "stdout",
     "output_type": "stream",
     "text": [
      "x:\n",
      " [[[1 2 3]]\n",
      "\n",
      " [[4 5 6]]]\n",
      "x.shape:  (2, 1, 3)\n",
      "y: \n",
      " [[1 2 3]\n",
      " [4 5 6]]\n",
      "y.shape:  (2, 3)\n"
     ]
    }
   ],
   "source": [
    "# Removing dimensions\n",
    "x = np.array([[[1,2,3]],[[4,5,6]]])\n",
    "print (\"x:\\n\", x)\n",
    "print (\"x.shape: \", x.shape)\n",
    "y = np.squeeze(x, 1) # squeeze dim 1\n",
    "print (\"y: \\n\", y)\n",
    "print (\"y.shape: \", y.shape)  # notice extra set of brackets are gone"
   ]
  },
  {
   "cell_type": "code",
   "execution_count": null,
   "id": "e5daa554-8b3b-4656-ab5b-c5dc80f7ad35",
   "metadata": {},
   "outputs": [],
   "source": []
  }
 ],
 "metadata": {
  "kernelspec": {
   "display_name": "Python 3 (ipykernel)",
   "language": "python",
   "name": "python3"
  },
  "language_info": {
   "codemirror_mode": {
    "name": "ipython",
    "version": 3
   },
   "file_extension": ".py",
   "mimetype": "text/x-python",
   "name": "python",
   "nbconvert_exporter": "python",
   "pygments_lexer": "ipython3",
   "version": "3.8.20"
  }
 },
 "nbformat": 4,
 "nbformat_minor": 5
}
