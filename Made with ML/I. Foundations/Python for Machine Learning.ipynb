{
 "cells": [
  {
   "cell_type": "raw",
   "id": "389361e7-5b2e-4c62-9f5e-83d42cdc1195",
   "metadata": {},
   "source": [
    "@article{madewithml,\n",
    "    author       = {Goku Mohandas},\n",
    "    title        = { Python - Made With ML },\n",
    "    howpublished = {\\url{https://madewithml.com/}},\n",
    "    year         = {2023}\n",
    "}"
   ]
  },
  {
   "cell_type": "markdown",
   "id": "b0302fe6-c77e-44f5-bbd5-3e2e4cb277e0",
   "metadata": {},
   "source": [
    "### Variables"
   ]
  },
  {
   "cell_type": "code",
   "execution_count": 2,
   "id": "9338e832-e4bb-489c-ac5d-d8d82bbaba4d",
   "metadata": {},
   "outputs": [
    {
     "name": "stdout",
     "output_type": "stream",
     "text": [
      "5\n",
      "<class 'int'>\n"
     ]
    }
   ],
   "source": [
    "x = 5\n",
    "print(x)\n",
    "print(type(x))"
   ]
  },
  {
   "cell_type": "code",
   "execution_count": 3,
   "id": "1f66db12-20ab-49ac-ad25-c9772ecbf5dd",
   "metadata": {},
   "outputs": [
    {
     "name": "stdout",
     "output_type": "stream",
     "text": [
      "hello\n",
      "<class 'str'>\n"
     ]
    }
   ],
   "source": [
    "# String variable\n",
    "x = \"hello\"\n",
    "print (x)\n",
    "print (type(x))"
   ]
  },
  {
   "cell_type": "code",
   "execution_count": 4,
   "id": "8c6884a0-c4e6-4b6d-8fb8-bc9a922effda",
   "metadata": {},
   "outputs": [
    {
     "name": "stdout",
     "output_type": "stream",
     "text": [
      "5 <class 'int'>\n"
     ]
    }
   ],
   "source": [
    "# int variable\n",
    "x = 5\n",
    "print (x, type(x))"
   ]
  },
  {
   "cell_type": "code",
   "execution_count": 5,
   "id": "abf30387-f529-499a-a2f3-33cd50cc24a8",
   "metadata": {},
   "outputs": [
    {
     "name": "stdout",
     "output_type": "stream",
     "text": [
      "5.0 <class 'float'>\n"
     ]
    }
   ],
   "source": [
    "# float variable\n",
    "x = 5.0\n",
    "print (x, type(x))"
   ]
  },
  {
   "cell_type": "code",
   "execution_count": 6,
   "id": "cb992925-9d30-410a-8103-09176752d67a",
   "metadata": {},
   "outputs": [
    {
     "name": "stdout",
     "output_type": "stream",
     "text": [
      "5 <class 'str'>\n"
     ]
    }
   ],
   "source": [
    "# text variable\n",
    "x = \"5\"\n",
    "print (x, type(x))"
   ]
  },
  {
   "cell_type": "code",
   "execution_count": 7,
   "id": "3deb91b0-0906-4871-bc17-d7f70bda2c6e",
   "metadata": {},
   "outputs": [
    {
     "name": "stdout",
     "output_type": "stream",
     "text": [
      "True <class 'bool'>\n"
     ]
    }
   ],
   "source": [
    "# boolean variable\n",
    "x = True\n",
    "print (x, type(x))"
   ]
  },
  {
   "cell_type": "code",
   "execution_count": 8,
   "id": "136828b1-f915-4d4d-89a0-bbb134d82f56",
   "metadata": {},
   "outputs": [
    {
     "name": "stdout",
     "output_type": "stream",
     "text": [
      "3\n"
     ]
    }
   ],
   "source": [
    "# Variables can be used with each other\n",
    "a = 1\n",
    "b = 2\n",
    "c = a + b\n",
    "print (c)"
   ]
  },
  {
   "cell_type": "markdown",
   "id": "446ac1a1-b53f-4795-b274-ac075ff378ac",
   "metadata": {},
   "source": [
    "### Variables"
   ]
  },
  {
   "cell_type": "code",
   "execution_count": 9,
   "id": "5a1add23-c01f-41cd-a51f-8727615394b9",
   "metadata": {},
   "outputs": [
    {
     "name": "stdout",
     "output_type": "stream",
     "text": [
      "[3, 'hello', 1.2]\n"
     ]
    }
   ],
   "source": [
    "# Creating a list\n",
    "x = [3, \"hello\", 1.2]\n",
    "print (x)"
   ]
  },
  {
   "cell_type": "code",
   "execution_count": 10,
   "id": "3c5d47ea-3aaf-4f97-8d12-b503edeb028f",
   "metadata": {},
   "outputs": [
    {
     "data": {
      "text/plain": [
       "3"
      ]
     },
     "execution_count": 10,
     "metadata": {},
     "output_type": "execute_result"
    }
   ],
   "source": [
    "# Length of a list\n",
    "len(x)"
   ]
  },
  {
   "cell_type": "code",
   "execution_count": 11,
   "id": "a111be55-b18d-499b-ac46-92371ca9e2b8",
   "metadata": {},
   "outputs": [
    {
     "name": "stdout",
     "output_type": "stream",
     "text": [
      "[3, 'hello', 1.2, 7]\n",
      "4\n"
     ]
    }
   ],
   "source": [
    "# Adding to a list\n",
    "x.append(7)\n",
    "print (x)\n",
    "print (len(x))"
   ]
  },
  {
   "cell_type": "code",
   "execution_count": 12,
   "id": "96f955ee-f80b-4570-9b83-6bb466025f30",
   "metadata": {},
   "outputs": [
    {
     "name": "stdout",
     "output_type": "stream",
     "text": [
      "[3, 'bye', 1.2, 7]\n"
     ]
    }
   ],
   "source": [
    "# Replacing items in a list\n",
    "x[1] = \"bye\"\n",
    "print (x)"
   ]
  },
  {
   "cell_type": "code",
   "execution_count": 13,
   "id": "690e73bc-43a0-4cfb-853d-51e8920c8b97",
   "metadata": {},
   "outputs": [
    {
     "name": "stdout",
     "output_type": "stream",
     "text": [
      "[3, 'bye', 1.2, 7, 2.4, 'world']\n"
     ]
    }
   ],
   "source": [
    "# Operations\n",
    "y = [2.4, \"world\"]\n",
    "z = x + y\n",
    "print (z)"
   ]
  },
  {
   "cell_type": "markdown",
   "id": "0c9158ce-a6b1-4fc9-b948-779d283d2154",
   "metadata": {},
   "source": [
    "### Tuples"
   ]
  },
  {
   "cell_type": "code",
   "execution_count": 14,
   "id": "76cb12c4-4ee3-4ef3-a38d-318caffdbc41",
   "metadata": {},
   "outputs": [
    {
     "name": "stdout",
     "output_type": "stream",
     "text": [
      "(3.0, 'hello')\n"
     ]
    }
   ],
   "source": [
    "# Creating a tuple\n",
    "x = (3.0, \"hello\") # tuples start and end with ()\n",
    "print (x)"
   ]
  },
  {
   "cell_type": "code",
   "execution_count": 15,
   "id": "31f477d6-7127-4e1d-a6c5-b4233aa8c195",
   "metadata": {},
   "outputs": [
    {
     "name": "stdout",
     "output_type": "stream",
     "text": [
      "(3.0, 'hello', 5.6, 4)\n"
     ]
    }
   ],
   "source": [
    "# Adding values to a tuple\n",
    "x = x + (5.6, 4)\n",
    "print (x)"
   ]
  },
  {
   "cell_type": "code",
   "execution_count": 16,
   "id": "72bce372-5b74-4ac4-ade1-798795b811ab",
   "metadata": {},
   "outputs": [
    {
     "ename": "TypeError",
     "evalue": "'tuple' object does not support item assignment",
     "output_type": "error",
     "traceback": [
      "\u001b[0;31m---------------------------------------------------------------------------\u001b[0m",
      "\u001b[0;31mTypeError\u001b[0m                                 Traceback (most recent call last)",
      "Cell \u001b[0;32mIn[16], line 2\u001b[0m\n\u001b[1;32m      1\u001b[0m \u001b[38;5;66;03m# Try to change (it won't work and we get an error)\u001b[39;00m\n\u001b[0;32m----> 2\u001b[0m x[\u001b[38;5;241m0\u001b[39m] \u001b[38;5;241m=\u001b[39m \u001b[38;5;241m1.2\u001b[39m\n",
      "\u001b[0;31mTypeError\u001b[0m: 'tuple' object does not support item assignment"
     ]
    }
   ],
   "source": [
    "# Try to change (it won't work and we get an error)\n",
    "x[0] = 1.2"
   ]
  },
  {
   "cell_type": "markdown",
   "id": "06c0a69b-7313-4875-88f5-c3f015aeb1e6",
   "metadata": {},
   "source": [
    "### Sets"
   ]
  },
  {
   "cell_type": "code",
   "execution_count": 17,
   "id": "6c3998ef-a75e-42a4-bb63-222d201442a5",
   "metadata": {},
   "outputs": [
    {
     "name": "stdout",
     "output_type": "stream",
     "text": [
      "{'e', 't', 'd', ' ', 'M', 'w', 'r', 'h', 'W', 'a', 'L', 'i', 'n'}\n",
      "{'ML', 'With', 'Learn', 'Made', 'with'}\n"
     ]
    }
   ],
   "source": [
    "# Sets\n",
    "text = \"Learn ML with Made With ML\"\n",
    "print (set(text))\n",
    "print (set(text.split(\" \")))"
   ]
  },
  {
   "cell_type": "markdown",
   "id": "7e5526a6-0716-41c7-8919-f05eb2c07c13",
   "metadata": {},
   "source": [
    "### Indexing"
   ]
  },
  {
   "cell_type": "code",
   "execution_count": 18,
   "id": "8cdce4e1-7f91-4ead-af0d-5178a754b973",
   "metadata": {},
   "outputs": [
    {
     "name": "stdout",
     "output_type": "stream",
     "text": [
      "x[0]:  3\n",
      "x[1]:  hello\n",
      "x[-1]:  1.2\n",
      "x[-2]:  hello\n"
     ]
    }
   ],
   "source": [
    "# Indexing\n",
    "x = [3, \"hello\", 1.2]\n",
    "print (\"x[0]: \", x[0])\n",
    "print (\"x[1]: \", x[1])\n",
    "print (\"x[-1]: \", x[-1]) # the last item\n",
    "print (\"x[-2]: \", x[-2]) # the second to last item"
   ]
  },
  {
   "cell_type": "code",
   "execution_count": 19,
   "id": "8519915f-2df3-476b-b5ca-5397a4cb7583",
   "metadata": {},
   "outputs": [
    {
     "name": "stdout",
     "output_type": "stream",
     "text": [
      "x[:]:  [3, 'hello', 1.2]\n",
      "x[1:]:  ['hello', 1.2]\n",
      "x[1:2]:  ['hello']\n",
      "x[:-1]:  [3, 'hello']\n"
     ]
    }
   ],
   "source": [
    "# Slicing\n",
    "print (\"x[:]: \", x[:]) # all indices\n",
    "print (\"x[1:]: \", x[1:]) # index 1 to the end of the list\n",
    "print (\"x[1:2]: \", x[1:2]) # index 1 to index 2 (not including index 2)\n",
    "print (\"x[:-1]: \", x[:-1]) # index 0 to last index (not including last index)"
   ]
  },
  {
   "cell_type": "markdown",
   "id": "00fbee3f-208f-4b32-a999-f4bd093da55f",
   "metadata": {},
   "source": [
    "### Dictionaries"
   ]
  },
  {
   "cell_type": "code",
   "execution_count": 20,
   "id": "d7442a1f-cc95-467a-bbc7-e02db7636db2",
   "metadata": {},
   "outputs": [
    {
     "name": "stdout",
     "output_type": "stream",
     "text": [
      "{'name': 'Goku', 'eye_color': 'brown'}\n",
      "Goku\n",
      "brown\n"
     ]
    }
   ],
   "source": [
    "# Creating a dictionary\n",
    "person = {\"name\": \"Goku\",\n",
    "          \"eye_color\": \"brown\"}\n",
    "print (person)\n",
    "print (person[\"name\"])\n",
    "print (person[\"eye_color\"])"
   ]
  },
  {
   "cell_type": "code",
   "execution_count": 21,
   "id": "c66cca7d-28be-49dc-be17-e0c075fc43ae",
   "metadata": {},
   "outputs": [
    {
     "name": "stdout",
     "output_type": "stream",
     "text": [
      "{'name': 'Goku', 'eye_color': 'green'}\n"
     ]
    }
   ],
   "source": [
    "# Changing the value for a key\n",
    "person[\"eye_color\"] = \"green\"\n",
    "print (person)"
   ]
  },
  {
   "cell_type": "code",
   "execution_count": 22,
   "id": "91e7261b-08a8-48cb-846b-9b7e3bde619f",
   "metadata": {},
   "outputs": [
    {
     "name": "stdout",
     "output_type": "stream",
     "text": [
      "{'name': 'Goku', 'eye_color': 'green', 'age': 24}\n"
     ]
    }
   ],
   "source": [
    "# Adding new key-value pairs\n",
    "person[\"age\"] = 24\n",
    "print (person)"
   ]
  },
  {
   "cell_type": "code",
   "execution_count": 23,
   "id": "15cf8606-c857-48d1-b041-f34e8c755b84",
   "metadata": {},
   "outputs": [
    {
     "name": "stdout",
     "output_type": "stream",
     "text": [
      "3\n"
     ]
    }
   ],
   "source": [
    "# Length of a dictionary\n",
    "print (len(person))"
   ]
  },
  {
   "cell_type": "code",
   "execution_count": 25,
   "id": "39358b5a-da9a-449c-91c1-798c16d87a46",
   "metadata": {},
   "outputs": [],
   "source": [
    "from collections import OrderedDict"
   ]
  },
  {
   "cell_type": "code",
   "execution_count": 26,
   "id": "a01c4eca-3525-49d6-b547-e9ae167241cd",
   "metadata": {},
   "outputs": [
    {
     "name": "stdout",
     "output_type": "stream",
     "text": [
      "{'a': 2, 'c': 3, 'b': 1}\n"
     ]
    }
   ],
   "source": [
    "# Native dict\n",
    "d = {}\n",
    "d[\"a\"] = 2\n",
    "d[\"c\"] = 3\n",
    "d[\"b\"] = 1\n",
    "print (d)"
   ]
  },
  {
   "cell_type": "code",
   "execution_count": 27,
   "id": "6d75d4d6-62ca-4282-876b-7de4523d7259",
   "metadata": {},
   "outputs": [
    {
     "name": "stdout",
     "output_type": "stream",
     "text": [
      "dict_items([('a', 2), ('c', 3), ('b', 1)])\n"
     ]
    }
   ],
   "source": [
    "# Dictionary items\n",
    "print (d.items())"
   ]
  },
  {
   "cell_type": "code",
   "execution_count": 28,
   "id": "82dd32f6-3413-46f0-9497-94bfef310a55",
   "metadata": {},
   "outputs": [
    {
     "name": "stdout",
     "output_type": "stream",
     "text": [
      "OrderedDict([('a', 2), ('b', 1), ('c', 3)])\n"
     ]
    }
   ],
   "source": [
    "# Order by keys\n",
    "print (OrderedDict(sorted(d.items())))"
   ]
  },
  {
   "cell_type": "code",
   "execution_count": 29,
   "id": "4675066f-58d8-4737-bd6c-ffcdfbeeb5b0",
   "metadata": {},
   "outputs": [
    {
     "name": "stdout",
     "output_type": "stream",
     "text": [
      "OrderedDict([('b', 1), ('a', 2), ('c', 3)])\n"
     ]
    }
   ],
   "source": [
    "# Order by values\n",
    "print (OrderedDict(sorted(d.items(), key=lambda x: x[1])))"
   ]
  },
  {
   "cell_type": "markdown",
   "id": "f232b2f8-4732-424c-b52e-48a015312fcb",
   "metadata": {},
   "source": [
    "### If Statements"
   ]
  },
  {
   "cell_type": "code",
   "execution_count": 30,
   "id": "6b1c8b4b-a33a-4a7d-8be6-310f848525af",
   "metadata": {},
   "outputs": [
    {
     "name": "stdout",
     "output_type": "stream",
     "text": [
      "medium\n"
     ]
    }
   ],
   "source": [
    "# If statement\n",
    "x = 4\n",
    "if x < 1:\n",
    "    score = \"low\"\n",
    "elif x <= 4: # elif = else if\n",
    "    score = \"medium\"\n",
    "else:\n",
    "    score = \"high\"\n",
    "print (score)"
   ]
  },
  {
   "cell_type": "code",
   "execution_count": 31,
   "id": "05b7d23a-a2cf-48bf-b38a-54bcb7ac0082",
   "metadata": {},
   "outputs": [
    {
     "name": "stdout",
     "output_type": "stream",
     "text": [
      "it worked\n"
     ]
    }
   ],
   "source": [
    "# If statement with a boolean\n",
    "x = True\n",
    "if x:\n",
    "    print (\"it worked\")"
   ]
  },
  {
   "cell_type": "markdown",
   "id": "cd595a66-611c-4848-813a-70fec2d0b931",
   "metadata": {},
   "source": [
    "### Loops"
   ]
  },
  {
   "cell_type": "code",
   "execution_count": 32,
   "id": "b5cae0ea-2e09-4049-a452-c26c1eff765e",
   "metadata": {},
   "outputs": [
    {
     "name": "stdout",
     "output_type": "stream",
     "text": [
      "carrots\n",
      "broccoli\n",
      "beans\n"
     ]
    }
   ],
   "source": [
    "# For loop\n",
    "veggies = [\"carrots\", \"broccoli\", \"beans\"]\n",
    "for veggie in veggies:\n",
    "    print (veggie)"
   ]
  },
  {
   "cell_type": "code",
   "execution_count": 33,
   "id": "1d540498-2b77-4859-8ac4-39a7d1918e39",
   "metadata": {},
   "outputs": [
    {
     "name": "stdout",
     "output_type": "stream",
     "text": [
      "carrots\n"
     ]
    }
   ],
   "source": [
    "# `break` from a for loop\n",
    "veggies = [\"carrots\", \"broccoli\", \"beans\"]\n",
    "for veggie in veggies:\n",
    "    if veggie == \"broccoli\":\n",
    "        break\n",
    "    print (veggie)"
   ]
  },
  {
   "cell_type": "code",
   "execution_count": 34,
   "id": "f23f2a2c-286a-4316-8a47-8df2e108104d",
   "metadata": {},
   "outputs": [
    {
     "name": "stdout",
     "output_type": "stream",
     "text": [
      "carrots\n",
      "beans\n"
     ]
    }
   ],
   "source": [
    "# `continue` to the next iteration\n",
    "veggies = [\"carrots\", \"broccoli\", \"beans\"]\n",
    "for veggie in veggies:\n",
    "    if veggie == \"broccoli\":\n",
    "        continue\n",
    "    print (veggie)"
   ]
  },
  {
   "cell_type": "code",
   "execution_count": 35,
   "id": "e46d0ae9-bf7d-484f-bc81-72f62012d6ef",
   "metadata": {},
   "outputs": [
    {
     "name": "stdout",
     "output_type": "stream",
     "text": [
      "2\n",
      "1\n",
      "0\n"
     ]
    }
   ],
   "source": [
    "# While loop\n",
    "x = 3\n",
    "while x > 0:\n",
    "    x -= 1 # same as x = x - 1\n",
    "    print (x)"
   ]
  },
  {
   "cell_type": "markdown",
   "id": "49af68db-7018-47df-96ea-2fdb9a08f23c",
   "metadata": {},
   "source": [
    "### List comprehension"
   ]
  },
  {
   "cell_type": "code",
   "execution_count": 36,
   "id": "75f6a91f-6eef-437c-b4c6-e990208ac008",
   "metadata": {},
   "outputs": [
    {
     "name": "stdout",
     "output_type": "stream",
     "text": [
      "[3, 4, 5]\n"
     ]
    }
   ],
   "source": [
    "# For loop\n",
    "x = [1, 2, 3, 4, 5]\n",
    "y = []\n",
    "for item in x:\n",
    "    if item > 2:\n",
    "        y.append(item)\n",
    "print (y)"
   ]
  },
  {
   "cell_type": "code",
   "execution_count": 37,
   "id": "a35f076b-36c2-4781-9c5b-64a5464f91dd",
   "metadata": {},
   "outputs": [
    {
     "name": "stdout",
     "output_type": "stream",
     "text": [
      "[3, 4, 5]\n"
     ]
    }
   ],
   "source": [
    "# List comprehension\n",
    "y = [item for item in x if item > 2]\n",
    "print (y)"
   ]
  },
  {
   "cell_type": "markdown",
   "id": "004387f3-de13-43a8-bead-b2e717f3434c",
   "metadata": {},
   "source": [
    "### Functions"
   ]
  },
  {
   "cell_type": "code",
   "execution_count": 38,
   "id": "5f7d4f14-c300-4b9d-ac63-20859d88224a",
   "metadata": {},
   "outputs": [],
   "source": [
    "# Define the function\n",
    "def add_two(x):\n",
    "    \"\"\"Increase x by 2.\"\"\"\n",
    "    x += 2\n",
    "    return x"
   ]
  },
  {
   "cell_type": "code",
   "execution_count": 39,
   "id": "d6c3f313-1114-4b60-b4e3-f77a9bb7a920",
   "metadata": {},
   "outputs": [
    {
     "name": "stdout",
     "output_type": "stream",
     "text": [
      "2\n"
     ]
    }
   ],
   "source": [
    "# Use the function\n",
    "score = 0\n",
    "new_score = add_two(x=score)\n",
    "print (new_score)"
   ]
  },
  {
   "cell_type": "code",
   "execution_count": 40,
   "id": "a27f19ee-5e91-4c21-a8cd-ff1ce338e388",
   "metadata": {},
   "outputs": [],
   "source": [
    "# Function with multiple inputs\n",
    "def join_name(first_name, last_name):\n",
    "    \"\"\"Combine first name and last name.\"\"\"\n",
    "    joined_name = first_name + \" \" + last_name\n",
    "    return joined_name"
   ]
  },
  {
   "cell_type": "code",
   "execution_count": 41,
   "id": "481d1496-2fd8-4adc-9a72-9a1e6ceabdf5",
   "metadata": {},
   "outputs": [
    {
     "name": "stdout",
     "output_type": "stream",
     "text": [
      "Goku Mohandas\n"
     ]
    }
   ],
   "source": [
    "# Use the function\n",
    "first_name = \"Goku\"\n",
    "last_name = \"Mohandas\"\n",
    "joined_name = join_name(\n",
    "    first_name=first_name, last_name=last_name)\n",
    "print (joined_name)"
   ]
  },
  {
   "cell_type": "code",
   "execution_count": 42,
   "id": "f350397a-c05f-4a97-a919-b4f782a19611",
   "metadata": {},
   "outputs": [],
   "source": [
    "def f(*args, **kwargs):\n",
    "    x = args[0]\n",
    "    y = kwargs.get(\"y\")\n",
    "    print (f\"x: {x}, y: {y}\")"
   ]
  },
  {
   "cell_type": "code",
   "execution_count": 43,
   "id": "a1dd28ca-74ba-4568-8e99-1e4e6e94846a",
   "metadata": {},
   "outputs": [
    {
     "name": "stdout",
     "output_type": "stream",
     "text": [
      "x: 5, y: 2\n"
     ]
    }
   ],
   "source": [
    "f(5, y=2)"
   ]
  },
  {
   "cell_type": "markdown",
   "id": "31120725-e625-434b-8b94-852273f68414",
   "metadata": {},
   "source": [
    "## Classes"
   ]
  },
  {
   "cell_type": "markdown",
   "id": "30d194e3-a1a0-4809-956c-b1ef33f4d1b1",
   "metadata": {},
   "source": [
    "#### Magic Methods"
   ]
  },
  {
   "cell_type": "code",
   "execution_count": 44,
   "id": "107e2932-b81e-4447-92ad-2a587eb89207",
   "metadata": {},
   "outputs": [],
   "source": [
    "# Creating the class\n",
    "class Pet(object):\n",
    "    \"\"\"Class object for a pet.\"\"\"\n",
    "\n",
    "    def __init__(self, species, name):\n",
    "        \"\"\"Initialize a Pet.\"\"\"\n",
    "        self.species = species\n",
    "        self.name = name"
   ]
  },
  {
   "cell_type": "code",
   "execution_count": 45,
   "id": "2d53f78c-c5e7-4891-98f8-feea58240630",
   "metadata": {},
   "outputs": [
    {
     "name": "stdout",
     "output_type": "stream",
     "text": [
      "<__main__.Pet object at 0x111ccf460>\n",
      "Scooby\n"
     ]
    }
   ],
   "source": [
    "# Creating an instance of a class\n",
    "my_dog = Pet(species=\"dog\",\n",
    "             name=\"Scooby\")\n",
    "print (my_dog)\n",
    "print (my_dog.name)"
   ]
  },
  {
   "cell_type": "code",
   "execution_count": 46,
   "id": "a8fa3222-63e2-44d7-923b-7f1463427968",
   "metadata": {},
   "outputs": [],
   "source": [
    "# Creating the class\n",
    "class Pet(object):\n",
    "    \"\"\"Class object for a pet.\"\"\"\n",
    "\n",
    "    def __init__(self, species, name):\n",
    "        \"\"\"Initialize a Pet.\"\"\"\n",
    "        self.species = species\n",
    "        self.name = name\n",
    "\n",
    "    def __str__(self):\n",
    "        \"\"\"Output when printing an instance of a Pet.\"\"\"\n",
    "        return f\"{self.species} named {self.name}\""
   ]
  },
  {
   "cell_type": "code",
   "execution_count": 47,
   "id": "6eb6aa29-e737-4522-868a-440f956e7b13",
   "metadata": {},
   "outputs": [
    {
     "name": "stdout",
     "output_type": "stream",
     "text": [
      "dog named Scooby\n",
      "Scooby\n"
     ]
    }
   ],
   "source": [
    "# Creating an instance of a class\n",
    "my_dog = Pet(species=\"dog\",\n",
    "             name=\"Scooby\")\n",
    "print (my_dog)\n",
    "print (my_dog.name)"
   ]
  },
  {
   "cell_type": "markdown",
   "id": "83ac93d2-3138-4757-a070-2f8aba47812a",
   "metadata": {},
   "source": [
    "#### Object Functions"
   ]
  },
  {
   "cell_type": "code",
   "execution_count": 48,
   "id": "7d1e4eaa-d2cb-4442-a635-a33ca37b14ea",
   "metadata": {},
   "outputs": [],
   "source": [
    "# Creating the class\n",
    "class Pet(object):\n",
    "    \"\"\"Class object for a pet.\"\"\"\n",
    "\n",
    "    def __init__(self, species, name):\n",
    "        \"\"\"Initialize a Pet.\"\"\"\n",
    "        self.species = species\n",
    "        self.name = name\n",
    "\n",
    "    def __str__(self):\n",
    "        \"\"\"Output when printing an instance of a Pet.\"\"\"\n",
    "        return f\"{self.species} named {self.name}\"\n",
    "\n",
    "    def change_name(self, new_name):\n",
    "        \"\"\"Change the name of your Pet.\"\"\"\n",
    "        self.name = new_name"
   ]
  },
  {
   "cell_type": "code",
   "execution_count": 49,
   "id": "860950b9-d137-40a1-9c33-72ae1c9faab5",
   "metadata": {},
   "outputs": [
    {
     "name": "stdout",
     "output_type": "stream",
     "text": [
      "dog named Scooby\n",
      "Scooby\n"
     ]
    }
   ],
   "source": [
    "# Creating an instance of a class\n",
    "my_dog = Pet(species=\"dog\", name=\"Scooby\")\n",
    "print (my_dog)\n",
    "print (my_dog.name)"
   ]
  },
  {
   "cell_type": "code",
   "execution_count": 50,
   "id": "00950b06-9436-4999-a7b6-b11d41f01de3",
   "metadata": {},
   "outputs": [
    {
     "name": "stdout",
     "output_type": "stream",
     "text": [
      "dog named Scrappy\n",
      "Scrappy\n"
     ]
    }
   ],
   "source": [
    "# Using a class's function\n",
    "my_dog.change_name(new_name=\"Scrappy\")\n",
    "print (my_dog)\n",
    "print (my_dog.name)"
   ]
  },
  {
   "cell_type": "markdown",
   "id": "31906ba1-5b6b-4c53-a289-7cc7e656fbb0",
   "metadata": {},
   "source": [
    "#### Inheritance"
   ]
  },
  {
   "cell_type": "code",
   "execution_count": 55,
   "id": "80d9b2ce-cf7c-4491-ae15-0027f73aeb7a",
   "metadata": {},
   "outputs": [],
   "source": [
    "class Pet:\n",
    "    def __init__(self, species, name):\n",
    "        self.species = species\n",
    "        self.name = name\n",
    "\n",
    "class Dog(Pet):\n",
    "    def __init__(self, name, breed):\n",
    "        super().__init__(species=\"dog\", name=name)  # Species is hardcoded as \"dog\"\n",
    "        self.breed = breed\n",
    "\n",
    "    def __str__(self):\n",
    "        return f\"A {self.breed} doggo named {self.name}\"\n"
   ]
  },
  {
   "cell_type": "code",
   "execution_count": 56,
   "id": "07f7c64a-bb64-4b70-8872-d78d16e16a96",
   "metadata": {},
   "outputs": [
    {
     "name": "stdout",
     "output_type": "stream",
     "text": [
      "A Great Dane doggo named Scooby\n"
     ]
    }
   ],
   "source": [
    "# Create an instance of Dog\n",
    "scooby = Dog(name=\"Scooby\", breed=\"Great Dane\")  # Pass only name and breed\n",
    "print(scooby)"
   ]
  },
  {
   "cell_type": "markdown",
   "id": "3cab00aa-8a88-4bcc-9462-3d19f972ef41",
   "metadata": {},
   "source": [
    "#### Methods"
   ]
  },
  {
   "cell_type": "code",
   "execution_count": 57,
   "id": "6ec8dc09-da23-4b1f-98d0-b17474edb589",
   "metadata": {},
   "outputs": [],
   "source": [
    "class Pet:\n",
    "    def __init__(self, species, name):\n",
    "        self.species = species\n",
    "        self.name = name\n",
    "\n",
    "class Dog(Pet):\n",
    "    def __init__(self, name, breed):\n",
    "        super().__init__(species=\"dog\", name=name)\n",
    "        self.breed = breed\n",
    "\n",
    "    def __str__(self):\n",
    "        return f\"{self.breed} named {self.name}\"\n",
    "\n",
    "    @classmethod\n",
    "    def from_dict(cls, d):\n",
    "        return cls(name=d[\"name\"], breed=d[\"breed\"])\n",
    "\n",
    "    @staticmethod\n",
    "    def is_cute(breed):\n",
    "        return True  # all animals are cute!"
   ]
  },
  {
   "cell_type": "code",
   "execution_count": 58,
   "id": "74da382e-401c-434d-9604-e915236046f0",
   "metadata": {},
   "outputs": [
    {
     "name": "stdout",
     "output_type": "stream",
     "text": [
      "Border Collie named Cassie\n"
     ]
    }
   ],
   "source": [
    "# Create instance\n",
    "d = {\"name\": \"Cassie\", \"breed\": \"Border Collie\"}\n",
    "cassie = Dog.from_dict(d=d)\n",
    "print(cassie)"
   ]
  },
  {
   "cell_type": "code",
   "execution_count": 59,
   "id": "3cfbda73-f020-4eef-9339-a427ab16d5de",
   "metadata": {},
   "outputs": [
    {
     "data": {
      "text/plain": [
       "True"
      ]
     },
     "execution_count": 59,
     "metadata": {},
     "output_type": "execute_result"
    }
   ],
   "source": [
    "# Static method\n",
    "Dog.is_cute(breed=\"Border Collie\")"
   ]
  },
  {
   "cell_type": "markdown",
   "id": "d89e511e-07d8-43a0-96fc-571dfaeb2db3",
   "metadata": {},
   "source": [
    "## Decorators"
   ]
  },
  {
   "cell_type": "code",
   "execution_count": 60,
   "id": "29fae3f5-89a3-4d3d-8a26-8dcd5058cc48",
   "metadata": {},
   "outputs": [],
   "source": [
    "def operations(x):\n",
    "    \"\"\"Basic operations.\"\"\"\n",
    "    x += 1\n",
    "    return x"
   ]
  },
  {
   "cell_type": "code",
   "execution_count": 61,
   "id": "3d7b6f16-20c0-4da4-a07b-b897af3512a6",
   "metadata": {},
   "outputs": [
    {
     "data": {
      "text/plain": [
       "2"
      ]
     },
     "execution_count": 61,
     "metadata": {},
     "output_type": "execute_result"
    }
   ],
   "source": [
    "operations(x=1)"
   ]
  },
  {
   "cell_type": "code",
   "execution_count": 62,
   "id": "3b2f5cdc-43bc-47ee-823a-a7c806d25187",
   "metadata": {},
   "outputs": [],
   "source": [
    "def operations(x):\n",
    "    \"\"\"Basic operations.\"\"\"\n",
    "    x += 1\n",
    "    x += 1\n",
    "    x += 1\n",
    "    return x"
   ]
  },
  {
   "cell_type": "code",
   "execution_count": 63,
   "id": "e36c213c-1180-45ab-9b63-b5f4d7139905",
   "metadata": {},
   "outputs": [
    {
     "data": {
      "text/plain": [
       "4"
      ]
     },
     "execution_count": 63,
     "metadata": {},
     "output_type": "execute_result"
    }
   ],
   "source": [
    "operations(x=1)"
   ]
  },
  {
   "cell_type": "markdown",
   "id": "dc6f45b8-70ab-4448-9ecf-d04ed1992c6d",
   "metadata": {},
   "source": [
    "#### Creating a Decorator"
   ]
  },
  {
   "cell_type": "code",
   "execution_count": 64,
   "id": "aba51787-4072-4570-a75d-476d442c29ee",
   "metadata": {},
   "outputs": [],
   "source": [
    "# Decorator\n",
    "def add(f):\n",
    "    def wrapper(*args, **kwargs):\n",
    "        \"\"\"Wrapper function for @add.\"\"\"\n",
    "        x = kwargs.pop(\"x\") # .get() if not altering x\n",
    "        x += 1 # executes before function f\n",
    "        x = f(*args, **kwargs, x=x)\n",
    "        x += 1 # executes after function f\n",
    "        return x\n",
    "    return wrapper"
   ]
  },
  {
   "cell_type": "code",
   "execution_count": 65,
   "id": "796a1b89-6bf3-44fa-bc7e-01e75b91e294",
   "metadata": {},
   "outputs": [],
   "source": [
    "@add\n",
    "def operations(x):\n",
    "    \"\"\"Basic operations.\"\"\"\n",
    "    x += 1\n",
    "    return x"
   ]
  },
  {
   "cell_type": "code",
   "execution_count": 66,
   "id": "6327243b-ca94-4d83-be32-3fbcdb30a9e3",
   "metadata": {},
   "outputs": [
    {
     "data": {
      "text/plain": [
       "4"
      ]
     },
     "execution_count": 66,
     "metadata": {},
     "output_type": "execute_result"
    }
   ],
   "source": [
    "operations(x=1)"
   ]
  },
  {
   "cell_type": "code",
   "execution_count": 68,
   "id": "f9e63b4f-d1ea-498b-b94a-d16884eea66c",
   "metadata": {},
   "outputs": [
    {
     "data": {
      "text/plain": [
       "('wrapper', 'Wrapper function for @add.')"
      ]
     },
     "execution_count": 68,
     "metadata": {},
     "output_type": "execute_result"
    }
   ],
   "source": [
    "operations.__name__, operations.__doc__"
   ]
  },
  {
   "cell_type": "code",
   "execution_count": 70,
   "id": "754c9d27-c718-41a4-aa61-d328b94e4fe7",
   "metadata": {},
   "outputs": [],
   "source": [
    "from functools import wraps"
   ]
  },
  {
   "cell_type": "code",
   "execution_count": 71,
   "id": "2a89b990-aa00-47ff-801a-6f2755fd6b6e",
   "metadata": {},
   "outputs": [],
   "source": [
    "# Decorator\n",
    "def add(f):\n",
    "    @wraps(f)\n",
    "    def wrap(*args, **kwargs):\n",
    "        \"\"\"Wrapper function for @add.\"\"\"\n",
    "        x = kwargs.pop(\"x\")\n",
    "        x += 1\n",
    "        x = f(*args, **kwargs, x=x)\n",
    "        x += 1\n",
    "        return x\n",
    "    return wrap"
   ]
  },
  {
   "cell_type": "code",
   "execution_count": 72,
   "id": "306b22ad-3a98-4f10-b163-d9c1814bd569",
   "metadata": {},
   "outputs": [],
   "source": [
    "@add\n",
    "def operations(x):\n",
    "    \"\"\"Basic operations.\"\"\"\n",
    "    x += 1\n",
    "    return x"
   ]
  },
  {
   "cell_type": "code",
   "execution_count": 73,
   "id": "5a68efc6-4bd8-468e-aca3-755b969697f8",
   "metadata": {},
   "outputs": [
    {
     "data": {
      "text/plain": [
       "('operations', 'Basic operations.')"
      ]
     },
     "execution_count": 73,
     "metadata": {},
     "output_type": "execute_result"
    }
   ],
   "source": [
    "operations.__name__, operations.__doc__"
   ]
  },
  {
   "cell_type": "markdown",
   "id": "99c7df0b-9a33-4573-be86-573c4695aee0",
   "metadata": {},
   "source": [
    "#### Callbacks"
   ]
  },
  {
   "cell_type": "code",
   "execution_count": 74,
   "id": "b1d1721f-97a3-4b5d-a577-3e0d3aec1ffe",
   "metadata": {},
   "outputs": [],
   "source": [
    "# Callback\n",
    "class x_tracker(object):\n",
    "    def __init__(self, x):\n",
    "        self.history = []\n",
    "    def at_start(self, x):\n",
    "        self.history.append(x)\n",
    "    def at_end(self, x):\n",
    "        self.history.append(x)"
   ]
  },
  {
   "cell_type": "code",
   "execution_count": 75,
   "id": "2776d0ac-0851-4784-ae59-67dcbbe2036f",
   "metadata": {},
   "outputs": [],
   "source": [
    "def operations(x, callbacks=[]):\n",
    "    \"\"\"Basic operations.\"\"\"\n",
    "    for callback in callbacks:\n",
    "        callback.at_start(x)\n",
    "    x += 1\n",
    "    for callback in callbacks:\n",
    "        callback.at_end(x)\n",
    "    return x"
   ]
  },
  {
   "cell_type": "code",
   "execution_count": 76,
   "id": "fa8ae9d5-906c-4cc4-b575-932247911cf0",
   "metadata": {},
   "outputs": [
    {
     "data": {
      "text/plain": [
       "2"
      ]
     },
     "execution_count": 76,
     "metadata": {},
     "output_type": "execute_result"
    }
   ],
   "source": [
    "x = 1\n",
    "tracker = x_tracker(x=x)\n",
    "operations(x=x, callbacks=[tracker])"
   ]
  },
  {
   "cell_type": "code",
   "execution_count": 77,
   "id": "c71f11b9-1db3-4646-935e-cfa179f9c427",
   "metadata": {},
   "outputs": [
    {
     "data": {
      "text/plain": [
       "[1, 2]"
      ]
     },
     "execution_count": 77,
     "metadata": {},
     "output_type": "execute_result"
    }
   ],
   "source": [
    "tracker.history"
   ]
  },
  {
   "cell_type": "markdown",
   "id": "e8352e76-decc-4004-b1d4-06812d0710a5",
   "metadata": {},
   "source": [
    "#### Putting it all Together"
   ]
  },
  {
   "cell_type": "code",
   "execution_count": 78,
   "id": "50f3e479-652f-48a4-b7bc-01578802dec2",
   "metadata": {},
   "outputs": [],
   "source": [
    "from functools import wraps\n",
    "\n",
    "# Decorator\n",
    "def add(f):\n",
    "    @wraps(f)\n",
    "    def wrap(*args, **kwargs):\n",
    "        \"\"\"Wrapper function for @add.\"\"\"\n",
    "        x = kwargs.pop(\"x\") # .get() if not altering x\n",
    "        x += 1 # executes before function f\n",
    "        x = f(*args, **kwargs, x=x)\n",
    "        # can do things post function f as well\n",
    "        return x\n",
    "    return wrap\n",
    "\n",
    "# Callback\n",
    "class x_tracker(object):\n",
    "    def __init__(self, x):\n",
    "        self.history = [x]\n",
    "    def at_start(self, x):\n",
    "        self.history.append(x)\n",
    "    def at_end(self, x):\n",
    "        self.history.append(x)\n",
    "\n",
    "# Main function\n",
    "@add\n",
    "def operations(x, callbacks=[]):\n",
    "    \"\"\"Basic operations.\"\"\"\n",
    "    for callback in callbacks:\n",
    "        callback.at_start(x)\n",
    "    x += 1\n",
    "    for callback in callbacks:\n",
    "        callback.at_end(x)\n",
    "    return x"
   ]
  },
  {
   "cell_type": "code",
   "execution_count": 79,
   "id": "89a39724-f3f5-4013-992d-97dd52d6ca7b",
   "metadata": {},
   "outputs": [
    {
     "data": {
      "text/plain": [
       "3"
      ]
     },
     "execution_count": 79,
     "metadata": {},
     "output_type": "execute_result"
    }
   ],
   "source": [
    "x = 1\n",
    "tracker = x_tracker(x=x)\n",
    "operations(x=x, callbacks=[tracker])"
   ]
  },
  {
   "cell_type": "code",
   "execution_count": 80,
   "id": "a6e5a80c-c244-498a-afef-1d3ec16c4f94",
   "metadata": {},
   "outputs": [
    {
     "data": {
      "text/plain": [
       "[1, 2, 3]"
      ]
     },
     "execution_count": 80,
     "metadata": {},
     "output_type": "execute_result"
    }
   ],
   "source": [
    "tracker.history"
   ]
  },
  {
   "cell_type": "code",
   "execution_count": null,
   "id": "90609826-9eef-4fdc-8858-240aa9fd8111",
   "metadata": {},
   "outputs": [],
   "source": []
  }
 ],
 "metadata": {
  "kernelspec": {
   "display_name": "Python 3 (ipykernel)",
   "language": "python",
   "name": "python3"
  },
  "language_info": {
   "codemirror_mode": {
    "name": "ipython",
    "version": 3
   },
   "file_extension": ".py",
   "mimetype": "text/x-python",
   "name": "python",
   "nbconvert_exporter": "python",
   "pygments_lexer": "ipython3",
   "version": "3.8.20"
  }
 },
 "nbformat": 4,
 "nbformat_minor": 5
}
