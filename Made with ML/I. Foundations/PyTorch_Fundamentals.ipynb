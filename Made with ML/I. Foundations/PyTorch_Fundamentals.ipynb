{
  "nbformat": 4,
  "nbformat_minor": 0,
  "metadata": {
    "colab": {
      "provenance": [],
      "gpuType": "T4"
    },
    "kernelspec": {
      "name": "python3",
      "display_name": "Python 3"
    },
    "language_info": {
      "name": "python"
    },
    "accelerator": "GPU"
  },
  "cells": [
    {
      "cell_type": "code",
      "source": [
        "# @article{madewithml,\n",
        "#    author       = {Goku Mohandas},\n",
        "#    title        = { PyTorch - Made With ML },\n",
        "#    howpublished = {\\url{https://madewithml.com/}},\n",
        "#    year         = {2023}\n",
        "# }"
      ],
      "metadata": {
        "id": "IeMceIRON-0W"
      },
      "execution_count": null,
      "outputs": []
    },
    {
      "cell_type": "markdown",
      "source": [],
      "metadata": {
        "id": "f795fKJIN-ZQ"
      }
    },
    {
      "cell_type": "code",
      "execution_count": 2,
      "metadata": {
        "colab": {
          "base_uri": "https://localhost:8080/"
        },
        "id": "y_Y4AHJ-MKGs",
        "outputId": "2ca1c869-d122-4431-b648-d18c0771c397"
      },
      "outputs": [
        {
          "output_type": "execute_result",
          "data": {
            "text/plain": [
              "<torch._C.Generator at 0x7dd686974990>"
            ]
          },
          "metadata": {},
          "execution_count": 2
        }
      ],
      "source": [
        "import numpy as np\n",
        "import torch\n",
        "\n",
        "SEED = 1234\n",
        "\n",
        "# Set seed for reproducibility\n",
        "np.random.seed(seed=SEED)\n",
        "torch.manual_seed(SEED)"
      ]
    },
    {
      "cell_type": "markdown",
      "source": [],
      "metadata": {
        "id": "Hxh-MrGGMZxK"
      }
    },
    {
      "cell_type": "markdown",
      "source": [
        "#### Basics"
      ],
      "metadata": {
        "id": "1yL8_33zMoKR"
      }
    },
    {
      "cell_type": "code",
      "source": [
        "# Creating a random tensor\n",
        "x = torch.randn(2, 3) # normal distribution (rand(2,3) -> uniform distribution)\n",
        "print(f\"Type: {x.type()}\")\n",
        "print(f\"Size: {x.shape}\")\n",
        "print(f\"Values: \\n{x}\")"
      ],
      "metadata": {
        "colab": {
          "base_uri": "https://localhost:8080/"
        },
        "id": "bggQ065gMpt3",
        "outputId": "cdf7f397-ecec-46ff-f2f6-b1aad9a32c48"
      },
      "execution_count": 3,
      "outputs": [
        {
          "output_type": "stream",
          "name": "stdout",
          "text": [
            "Type: torch.FloatTensor\n",
            "Size: torch.Size([2, 3])\n",
            "Values: \n",
            "tensor([[ 0.0461,  0.4024, -1.0115],\n",
            "        [ 0.2167, -0.6123,  0.5036]])\n"
          ]
        }
      ]
    },
    {
      "cell_type": "code",
      "source": [
        "# Zero and Ones tensor\n",
        "x = torch.zeros(2, 3)\n",
        "print (x)\n",
        "x = torch.ones(2, 3)\n",
        "print (x)"
      ],
      "metadata": {
        "colab": {
          "base_uri": "https://localhost:8080/"
        },
        "id": "72cYSEkKMrYq",
        "outputId": "122b9963-4702-4257-8b3f-0ea2a9f8aa86"
      },
      "execution_count": 4,
      "outputs": [
        {
          "output_type": "stream",
          "name": "stdout",
          "text": [
            "tensor([[0., 0., 0.],\n",
            "        [0., 0., 0.]])\n",
            "tensor([[1., 1., 1.],\n",
            "        [1., 1., 1.]])\n"
          ]
        }
      ]
    },
    {
      "cell_type": "code",
      "source": [
        "# List → Tensor\n",
        "x = torch.Tensor([[1, 2, 3],[4, 5, 6]])\n",
        "print(f\"Size: {x.shape}\")\n",
        "print(f\"Values: \\n{x}\")"
      ],
      "metadata": {
        "colab": {
          "base_uri": "https://localhost:8080/"
        },
        "id": "yIf6UgwuMuqG",
        "outputId": "68236e73-48af-4a00-8062-797d1ae4f31a"
      },
      "execution_count": 5,
      "outputs": [
        {
          "output_type": "stream",
          "name": "stdout",
          "text": [
            "Size: torch.Size([2, 3])\n",
            "Values: \n",
            "tensor([[1., 2., 3.],\n",
            "        [4., 5., 6.]])\n"
          ]
        }
      ]
    },
    {
      "cell_type": "code",
      "source": [
        "# NumPy array → Tensor\n",
        "x = torch.Tensor(np.random.rand(2, 3))\n",
        "print(f\"Size: {x.shape}\")\n",
        "print(f\"Values: \\n{x}\")"
      ],
      "metadata": {
        "colab": {
          "base_uri": "https://localhost:8080/"
        },
        "id": "6PhvgC6vMwhO",
        "outputId": "4deaefc3-df8e-4afa-d2ad-4b6d1281a908"
      },
      "execution_count": 6,
      "outputs": [
        {
          "output_type": "stream",
          "name": "stdout",
          "text": [
            "Size: torch.Size([2, 3])\n",
            "Values: \n",
            "tensor([[0.1915, 0.6221, 0.4377],\n",
            "        [0.7854, 0.7800, 0.2726]])\n"
          ]
        }
      ]
    },
    {
      "cell_type": "code",
      "source": [
        "# Changing tensor type\n",
        "x = torch.Tensor(3, 4)\n",
        "print(f\"Type: {x.type()}\")\n",
        "x = x.long()\n",
        "print(f\"Type: {x.type()}\")"
      ],
      "metadata": {
        "colab": {
          "base_uri": "https://localhost:8080/"
        },
        "id": "f2I9fePDMyqA",
        "outputId": "adbd813f-e189-45c4-fdc9-3850359e082f"
      },
      "execution_count": 7,
      "outputs": [
        {
          "output_type": "stream",
          "name": "stdout",
          "text": [
            "Type: torch.FloatTensor\n",
            "Type: torch.LongTensor\n"
          ]
        }
      ]
    },
    {
      "cell_type": "markdown",
      "source": [
        "#### Operations"
      ],
      "metadata": {
        "id": "n4ppWcwXM3VG"
      }
    },
    {
      "cell_type": "code",
      "source": [
        "# Addition\n",
        "x = torch.randn(2, 3)\n",
        "y = torch.randn(2, 3)\n",
        "z = x + y\n",
        "print(f\"Size: {z.shape}\")\n",
        "print(f\"Values: \\n{z}\")"
      ],
      "metadata": {
        "colab": {
          "base_uri": "https://localhost:8080/"
        },
        "id": "nbR1Jvi3M2Wj",
        "outputId": "0fb2a7c2-3bc0-4b75-9a64-a9f8df08627b"
      },
      "execution_count": 8,
      "outputs": [
        {
          "output_type": "stream",
          "name": "stdout",
          "text": [
            "Size: torch.Size([2, 3])\n",
            "Values: \n",
            "tensor([[ 0.0761, -0.6775, -0.3988],\n",
            "        [ 3.0633, -0.1589,  0.3514]])\n"
          ]
        }
      ]
    },
    {
      "cell_type": "code",
      "source": [
        "# Dot product\n",
        "x = torch.randn(2, 3)\n",
        "y = torch.randn(3, 2)\n",
        "z = torch.mm(x, y)\n",
        "print(f\"Size: {z.shape}\")\n",
        "print(f\"Values: \\n{z}\")"
      ],
      "metadata": {
        "colab": {
          "base_uri": "https://localhost:8080/"
        },
        "id": "6VekUcxJM-f9",
        "outputId": "8a69497c-1150-4a3d-b1a1-2b3de931cf13"
      },
      "execution_count": 9,
      "outputs": [
        {
          "output_type": "stream",
          "name": "stdout",
          "text": [
            "Size: torch.Size([2, 2])\n",
            "Values: \n",
            "tensor([[ 1.0796, -0.0759],\n",
            "        [ 1.2746, -0.5134]])\n"
          ]
        }
      ]
    },
    {
      "cell_type": "code",
      "source": [
        "# Transpose\n",
        "x = torch.randn(2, 3)\n",
        "print(f\"Size: {x.shape}\")\n",
        "print(f\"Values: \\n{x}\")\n",
        "y = torch.t(x)\n",
        "print(f\"Size: {y.shape}\")\n",
        "print(f\"Values: \\n{y}\")"
      ],
      "metadata": {
        "colab": {
          "base_uri": "https://localhost:8080/"
        },
        "id": "Qg3yBguyNB6o",
        "outputId": "749c3551-20b2-4be4-e701-6adcdb7653f4"
      },
      "execution_count": 10,
      "outputs": [
        {
          "output_type": "stream",
          "name": "stdout",
          "text": [
            "Size: torch.Size([2, 3])\n",
            "Values: \n",
            "tensor([[ 0.8042, -0.1383,  0.3196],\n",
            "        [-1.0187, -1.3147,  2.5228]])\n",
            "Size: torch.Size([3, 2])\n",
            "Values: \n",
            "tensor([[ 0.8042, -1.0187],\n",
            "        [-0.1383, -1.3147],\n",
            "        [ 0.3196,  2.5228]])\n"
          ]
        }
      ]
    },
    {
      "cell_type": "code",
      "source": [
        "# Reshape\n",
        "x = torch.randn(2, 3)\n",
        "z = x.view(3, 2)\n",
        "print(f\"Size: {z.shape}\")\n",
        "print(f\"Values: \\n{z}\")"
      ],
      "metadata": {
        "colab": {
          "base_uri": "https://localhost:8080/"
        },
        "id": "Ml_woJflND-d",
        "outputId": "3e44b36d-bcaa-4bc2-af54-06d546ab0032"
      },
      "execution_count": 11,
      "outputs": [
        {
          "output_type": "stream",
          "name": "stdout",
          "text": [
            "Size: torch.Size([3, 2])\n",
            "Values: \n",
            "tensor([[ 0.4501,  0.2709],\n",
            "        [-0.8087, -0.0217],\n",
            "        [-1.0413,  0.0702]])\n"
          ]
        }
      ]
    },
    {
      "cell_type": "code",
      "source": [
        "# Dangers of reshaping (unintended consequences)\n",
        "x = torch.tensor([\n",
        "    [[1,1,1,1], [2,2,2,2], [3,3,3,3]],\n",
        "    [[10,10,10,10], [20,20,20,20], [30,30,30,30]]\n",
        "])\n",
        "print(f\"Size: {x.shape}\")\n",
        "print(f\"x: \\n{x}\\n\")\n",
        "\n",
        "a = x.view(x.size(1), -1)\n",
        "print(f\"\\nSize: {a.shape}\")\n",
        "print(f\"a: \\n{a}\\n\")\n",
        "\n",
        "b = x.transpose(0,1).contiguous()\n",
        "print(f\"\\nSize: {b.shape}\")\n",
        "print(f\"b: \\n{b}\\n\")\n",
        "\n",
        "c = b.view(b.size(0), -1)\n",
        "print(f\"\\nSize: {c.shape}\")\n",
        "print(f\"c: \\n{c}\")"
      ],
      "metadata": {
        "colab": {
          "base_uri": "https://localhost:8080/"
        },
        "id": "vG5NpKzNNGC7",
        "outputId": "bba67df0-e869-433a-a381-7d893f124724"
      },
      "execution_count": 12,
      "outputs": [
        {
          "output_type": "stream",
          "name": "stdout",
          "text": [
            "Size: torch.Size([2, 3, 4])\n",
            "x: \n",
            "tensor([[[ 1,  1,  1,  1],\n",
            "         [ 2,  2,  2,  2],\n",
            "         [ 3,  3,  3,  3]],\n",
            "\n",
            "        [[10, 10, 10, 10],\n",
            "         [20, 20, 20, 20],\n",
            "         [30, 30, 30, 30]]])\n",
            "\n",
            "\n",
            "Size: torch.Size([3, 8])\n",
            "a: \n",
            "tensor([[ 1,  1,  1,  1,  2,  2,  2,  2],\n",
            "        [ 3,  3,  3,  3, 10, 10, 10, 10],\n",
            "        [20, 20, 20, 20, 30, 30, 30, 30]])\n",
            "\n",
            "\n",
            "Size: torch.Size([3, 2, 4])\n",
            "b: \n",
            "tensor([[[ 1,  1,  1,  1],\n",
            "         [10, 10, 10, 10]],\n",
            "\n",
            "        [[ 2,  2,  2,  2],\n",
            "         [20, 20, 20, 20]],\n",
            "\n",
            "        [[ 3,  3,  3,  3],\n",
            "         [30, 30, 30, 30]]])\n",
            "\n",
            "\n",
            "Size: torch.Size([3, 8])\n",
            "c: \n",
            "tensor([[ 1,  1,  1,  1, 10, 10, 10, 10],\n",
            "        [ 2,  2,  2,  2, 20, 20, 20, 20],\n",
            "        [ 3,  3,  3,  3, 30, 30, 30, 30]])\n"
          ]
        }
      ]
    },
    {
      "cell_type": "code",
      "source": [
        "# Dimensional operations\n",
        "x = torch.randn(2, 3)\n",
        "print(f\"Values: \\n{x}\")\n",
        "y = torch.sum(x, dim=0) # add each row's value for every column\n",
        "print(f\"Values: \\n{y}\")\n",
        "z = torch.sum(x, dim=1) # add each columns's value for every row\n",
        "print(f\"Values: \\n{z}\")"
      ],
      "metadata": {
        "colab": {
          "base_uri": "https://localhost:8080/"
        },
        "id": "3nby8vh2NIGy",
        "outputId": "9c0da9c7-d56f-4552-89c1-2e75ce3fa0d1"
      },
      "execution_count": 13,
      "outputs": [
        {
          "output_type": "stream",
          "name": "stdout",
          "text": [
            "Values: \n",
            "tensor([[ 0.5797, -0.0599,  0.1816],\n",
            "        [-0.6797, -0.2567, -1.8189]])\n",
            "Values: \n",
            "tensor([-0.1000, -0.3166, -1.6373])\n",
            "Values: \n",
            "tensor([ 0.7013, -2.7553])\n"
          ]
        }
      ]
    },
    {
      "cell_type": "markdown",
      "source": [
        "#### Indexing"
      ],
      "metadata": {
        "id": "V3_Ahm8aNM-w"
      }
    },
    {
      "cell_type": "code",
      "source": [
        "x = torch.randn(3, 4)\n",
        "print (f\"x: \\n{x}\")\n",
        "print (f\"x[:1]: \\n{x[:1]}\")\n",
        "print (f\"x[:1, 1:3]: \\n{x[:1, 1:3]}\")"
      ],
      "metadata": {
        "colab": {
          "base_uri": "https://localhost:8080/"
        },
        "id": "ZXFdGO7fNKh1",
        "outputId": "ea559a60-1fe4-45e7-a2cd-4b31af0cc09a"
      },
      "execution_count": 14,
      "outputs": [
        {
          "output_type": "stream",
          "name": "stdout",
          "text": [
            "x: \n",
            "tensor([[ 0.2111,  0.3372,  0.6638,  1.0397],\n",
            "        [ 1.8434,  0.6588, -0.2349, -0.0306],\n",
            "        [ 1.7462, -0.0722, -1.6794, -1.7010]])\n",
            "x[:1]: \n",
            "tensor([[0.2111, 0.3372, 0.6638, 1.0397]])\n",
            "x[:1, 1:3]: \n",
            "tensor([[0.3372, 0.6638]])\n"
          ]
        }
      ]
    },
    {
      "cell_type": "markdown",
      "source": [
        "#### Slicing"
      ],
      "metadata": {
        "id": "lbVv8flINSXB"
      }
    },
    {
      "cell_type": "code",
      "source": [
        "# Select with dimensional indices\n",
        "x = torch.randn(2, 3)\n",
        "print(f\"Values: \\n{x}\")\n",
        "\n",
        "col_indices = torch.LongTensor([0, 2])\n",
        "chosen = torch.index_select(x, dim=1, index=col_indices) # values from column 0 & 2\n",
        "print(f\"Values: \\n{chosen}\")\n",
        "\n",
        "row_indices = torch.LongTensor([0, 1])\n",
        "col_indices = torch.LongTensor([0, 2])\n",
        "chosen = x[row_indices, col_indices] # values from (0, 0) & (1, 2)\n",
        "print(f\"Values: \\n{chosen}\")"
      ],
      "metadata": {
        "colab": {
          "base_uri": "https://localhost:8080/"
        },
        "id": "vAz9LrYlNRdh",
        "outputId": "32825568-d08d-4b39-ed3d-4b751b4678d7"
      },
      "execution_count": 15,
      "outputs": [
        {
          "output_type": "stream",
          "name": "stdout",
          "text": [
            "Values: \n",
            "tensor([[ 0.6486,  1.7653,  1.0812],\n",
            "        [ 1.2436,  0.8971, -0.0784]])\n",
            "Values: \n",
            "tensor([[ 0.6486,  1.0812],\n",
            "        [ 1.2436, -0.0784]])\n",
            "Values: \n",
            "tensor([ 0.6486, -0.0784])\n"
          ]
        }
      ]
    },
    {
      "cell_type": "markdown",
      "source": [
        "#### Joining"
      ],
      "metadata": {
        "id": "2mdPUTsgNWzJ"
      }
    },
    {
      "cell_type": "code",
      "source": [
        "x = torch.randn(2, 3)\n",
        "print (x)\n",
        "print (x.shape)"
      ],
      "metadata": {
        "colab": {
          "base_uri": "https://localhost:8080/"
        },
        "id": "g1vXa1zSNVpe",
        "outputId": "f121c8d1-3e91-4f1f-8918-cde0e15ccd70"
      },
      "execution_count": 16,
      "outputs": [
        {
          "output_type": "stream",
          "name": "stdout",
          "text": [
            "tensor([[ 0.5548, -0.0845,  0.5903],\n",
            "        [-1.0032, -1.7873,  0.0538]])\n",
            "torch.Size([2, 3])\n"
          ]
        }
      ]
    },
    {
      "cell_type": "code",
      "source": [
        "# Concatenation\n",
        "y = torch.cat([x, x], dim=0) # concat on a specified dimension\n",
        "print (y)\n",
        "print (y.shape)"
      ],
      "metadata": {
        "colab": {
          "base_uri": "https://localhost:8080/"
        },
        "id": "ewqU-fn5NZsI",
        "outputId": "67720c5d-9b83-4fb8-b841-27cf9b827862"
      },
      "execution_count": 17,
      "outputs": [
        {
          "output_type": "stream",
          "name": "stdout",
          "text": [
            "tensor([[ 0.5548, -0.0845,  0.5903],\n",
            "        [-1.0032, -1.7873,  0.0538],\n",
            "        [ 0.5548, -0.0845,  0.5903],\n",
            "        [-1.0032, -1.7873,  0.0538]])\n",
            "torch.Size([4, 3])\n"
          ]
        }
      ]
    },
    {
      "cell_type": "code",
      "source": [
        "# Stacking\n",
        "z = torch.stack([x, x], dim=0) # stack on new dimension\n",
        "print (z)\n",
        "print (z.shape)"
      ],
      "metadata": {
        "colab": {
          "base_uri": "https://localhost:8080/"
        },
        "id": "QP0DY_i2NbLP",
        "outputId": "f90204a8-1bed-4167-aa4f-39950a80383a"
      },
      "execution_count": 18,
      "outputs": [
        {
          "output_type": "stream",
          "name": "stdout",
          "text": [
            "tensor([[[ 0.5548, -0.0845,  0.5903],\n",
            "         [-1.0032, -1.7873,  0.0538]],\n",
            "\n",
            "        [[ 0.5548, -0.0845,  0.5903],\n",
            "         [-1.0032, -1.7873,  0.0538]]])\n",
            "torch.Size([2, 2, 3])\n"
          ]
        }
      ]
    },
    {
      "cell_type": "markdown",
      "source": [
        "#### Gradients"
      ],
      "metadata": {
        "id": "uAR7xwSzNdMR"
      }
    },
    {
      "cell_type": "code",
      "source": [
        "# Tensors with gradient bookkeeping\n",
        "x = torch.rand(3, 4, requires_grad=True)\n",
        "y = 3*x + 2\n",
        "z = y.mean()\n",
        "z.backward() # z has to be scalar\n",
        "print(f\"x: \\n{x}\")\n",
        "print(f\"x.grad: \\n{x.grad}\")"
      ],
      "metadata": {
        "colab": {
          "base_uri": "https://localhost:8080/"
        },
        "id": "aprc73mTNcp4",
        "outputId": "916bd9f2-6f6c-40de-85f3-8c3b1fb53894"
      },
      "execution_count": 19,
      "outputs": [
        {
          "output_type": "stream",
          "name": "stdout",
          "text": [
            "x: \n",
            "tensor([[0.7379, 0.0846, 0.4245, 0.9778],\n",
            "        [0.6800, 0.3151, 0.3911, 0.8943],\n",
            "        [0.6889, 0.8389, 0.1780, 0.6442]], requires_grad=True)\n",
            "x.grad: \n",
            "tensor([[0.2500, 0.2500, 0.2500, 0.2500],\n",
            "        [0.2500, 0.2500, 0.2500, 0.2500],\n",
            "        [0.2500, 0.2500, 0.2500, 0.2500]])\n"
          ]
        }
      ]
    },
    {
      "cell_type": "markdown",
      "source": [
        "#### CUDA"
      ],
      "metadata": {
        "id": "HRD_K302Nkmf"
      }
    },
    {
      "cell_type": "code",
      "source": [
        "# Is CUDA available?\n",
        "print (torch.cuda.is_available())"
      ],
      "metadata": {
        "colab": {
          "base_uri": "https://localhost:8080/"
        },
        "id": "bSCLvtDeNjqN",
        "outputId": "22e975a1-47e8-4338-b413-bd5a3edea98b"
      },
      "execution_count": 20,
      "outputs": [
        {
          "output_type": "stream",
          "name": "stdout",
          "text": [
            "False\n"
          ]
        }
      ]
    },
    {
      "cell_type": "code",
      "source": [
        "import torch\n",
        "\n",
        "# Is CUDA available now?\n",
        "print (torch.cuda.is_available())"
      ],
      "metadata": {
        "colab": {
          "base_uri": "https://localhost:8080/"
        },
        "id": "gq-f88C3NnI3",
        "outputId": "ea09e496-2756-4439-e0ed-d587faf21aca"
      },
      "execution_count": 1,
      "outputs": [
        {
          "output_type": "stream",
          "name": "stdout",
          "text": [
            "True\n"
          ]
        }
      ]
    },
    {
      "cell_type": "code",
      "source": [
        "# Set device\n",
        "device = torch.device(\"cuda\" if torch.cuda.is_available() else \"cpu\")\n",
        "print (device)"
      ],
      "metadata": {
        "colab": {
          "base_uri": "https://localhost:8080/"
        },
        "id": "iHqGejjhNqC1",
        "outputId": "1aca7f72-a518-4f94-977a-692021f6218d"
      },
      "execution_count": 2,
      "outputs": [
        {
          "output_type": "stream",
          "name": "stdout",
          "text": [
            "cuda\n"
          ]
        }
      ]
    },
    {
      "cell_type": "code",
      "source": [
        "x = torch.rand(2,3)\n",
        "print (x.is_cuda)\n",
        "x = torch.rand(2,3).to(device) # Tensor is stored on the GPU\n",
        "print (x.is_cuda)"
      ],
      "metadata": {
        "colab": {
          "base_uri": "https://localhost:8080/"
        },
        "id": "LRCvL-wrN1lc",
        "outputId": "13ce2c80-d243-47ba-ab63-1b8bcb1263f6"
      },
      "execution_count": 3,
      "outputs": [
        {
          "output_type": "stream",
          "name": "stdout",
          "text": [
            "False\n",
            "True\n"
          ]
        }
      ]
    },
    {
      "cell_type": "code",
      "source": [],
      "metadata": {
        "id": "cFtjLTHnN3mJ"
      },
      "execution_count": null,
      "outputs": []
    }
  ]
}